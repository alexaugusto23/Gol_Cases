{
 "cells": [
  {
   "cell_type": "markdown",
   "metadata": {},
   "source": [
    "### Package Python"
   ]
  },
  {
   "cell_type": "code",
   "execution_count": 1,
   "metadata": {},
   "outputs": [],
   "source": [
    "import pandas as pd\n",
    "import numpy as np\n",
    "import xarray as xr\n",
    "import os as os"
   ]
  },
  {
   "cell_type": "markdown",
   "metadata": {},
   "source": [
    "### Reading of bases"
   ]
  },
  {
   "cell_type": "code",
   "execution_count": 4,
   "metadata": {},
   "outputs": [
    {
     "data": {
      "text/plain": [
       "'c:\\\\git\\\\Gol_Cases'"
      ]
     },
     "execution_count": 4,
     "metadata": {},
     "output_type": "execute_result"
    }
   ],
   "source": [
    "_path = os.getcwd()\n",
    "_path"
   ]
  },
  {
   "cell_type": "code",
   "execution_count": 14,
   "metadata": {},
   "outputs": [
    {
     "data": {
      "text/plain": [
       "'c:\\\\git\\\\Gol_Cases\\\\data\\\\basica2022-01.txt'"
      ]
     },
     "execution_count": 14,
     "metadata": {},
     "output_type": "execute_result"
    }
   ],
   "source": [
    "_path1 = os.path.join(_path, 'data', 'basica2022-01.txt')\n",
    "_path1"
   ]
  },
  {
   "cell_type": "code",
   "execution_count": 18,
   "metadata": {},
   "outputs": [
    {
     "name": "stderr",
     "output_type": "stream",
     "text": [
      "C:\\Users\\conta\\AppData\\Local\\Programs\\Python\\Python39\\lib\\site-packages\\IPython\\core\\interactiveshell.py:3441: DtypeWarning: Columns (8,10) have mixed types.Specify dtype option on import or set low_memory=False.\n",
      "  exec(code_obj, self.user_global_ns, self.user_ns)\n"
     ]
    },
    {
     "data": {
      "text/html": [
       "<div>\n",
       "<style scoped>\n",
       "    .dataframe tbody tr th:only-of-type {\n",
       "        vertical-align: middle;\n",
       "    }\n",
       "\n",
       "    .dataframe tbody tr th {\n",
       "        vertical-align: top;\n",
       "    }\n",
       "\n",
       "    .dataframe thead th {\n",
       "        text-align: right;\n",
       "    }\n",
       "</style>\n",
       "<table border=\"1\" class=\"dataframe\">\n",
       "  <thead>\n",
       "    <tr style=\"text-align: right;\">\n",
       "      <th></th>\n",
       "      <th>id_basica</th>\n",
       "      <th>id_empresa</th>\n",
       "      <th>sg_empresa_icao</th>\n",
       "      <th>sg_empresa_iata</th>\n",
       "      <th>nm_empresa</th>\n",
       "      <th>nm_pais</th>\n",
       "      <th>ds_tipo_empresa</th>\n",
       "      <th>nr_voo</th>\n",
       "      <th>nr_singular</th>\n",
       "      <th>id_di</th>\n",
       "      <th>...</th>\n",
       "      <th>nr_bagagem_paga_km</th>\n",
       "      <th>nr_bagagem_gratis_km</th>\n",
       "      <th>nr_ask</th>\n",
       "      <th>nr_rpk</th>\n",
       "      <th>nr_atk</th>\n",
       "      <th>nr_rtk</th>\n",
       "      <th>id_arquivo</th>\n",
       "      <th>nm_arquivo</th>\n",
       "      <th>nr_linha</th>\n",
       "      <th>dt_sistema</th>\n",
       "    </tr>\n",
       "  </thead>\n",
       "  <tbody>\n",
       "    <tr>\n",
       "      <th>0</th>\n",
       "      <td>22675635</td>\n",
       "      <td>1000358</td>\n",
       "      <td>AVA</td>\n",
       "      <td>AV</td>\n",
       "      <td>AEROVIAS DEL CONTINENTE AMERICANO S.A. AVIANCA</td>\n",
       "      <td>COLÔMBIA</td>\n",
       "      <td>ESTRANGEIRA REGULAR</td>\n",
       "      <td>85</td>\n",
       "      <td>A01</td>\n",
       "      <td>3</td>\n",
       "      <td>...</td>\n",
       "      <td>0</td>\n",
       "      <td>0</td>\n",
       "      <td>650400</td>\n",
       "      <td>650400</td>\n",
       "      <td>76313</td>\n",
       "      <td>59182</td>\n",
       "      <td>17799</td>\n",
       "      <td>AVA202201.txt</td>\n",
       "      <td>121.0</td>\n",
       "      <td>2022-02-11 00:49:00</td>\n",
       "    </tr>\n",
       "    <tr>\n",
       "      <th>1</th>\n",
       "      <td>22675634</td>\n",
       "      <td>1000358</td>\n",
       "      <td>AVA</td>\n",
       "      <td>AV</td>\n",
       "      <td>AEROVIAS DEL CONTINENTE AMERICANO S.A. AVIANCA</td>\n",
       "      <td>COLÔMBIA</td>\n",
       "      <td>ESTRANGEIRA REGULAR</td>\n",
       "      <td>249</td>\n",
       "      <td>A04</td>\n",
       "      <td>3</td>\n",
       "      <td>...</td>\n",
       "      <td>0</td>\n",
       "      <td>0</td>\n",
       "      <td>520320</td>\n",
       "      <td>394576</td>\n",
       "      <td>66340</td>\n",
       "      <td>38807</td>\n",
       "      <td>17799</td>\n",
       "      <td>AVA202201.txt</td>\n",
       "      <td>82.0</td>\n",
       "      <td>2022-02-11 00:49:00</td>\n",
       "    </tr>\n",
       "  </tbody>\n",
       "</table>\n",
       "<p>2 rows × 110 columns</p>\n",
       "</div>"
      ],
      "text/plain": [
       "   id_basica  id_empresa sg_empresa_icao sg_empresa_iata  \\\n",
       "0   22675635     1000358             AVA              AV   \n",
       "1   22675634     1000358             AVA              AV   \n",
       "\n",
       "                                       nm_empresa   nm_pais  \\\n",
       "0  AEROVIAS DEL CONTINENTE AMERICANO S.A. AVIANCA  COLÔMBIA   \n",
       "1  AEROVIAS DEL CONTINENTE AMERICANO S.A. AVIANCA  COLÔMBIA   \n",
       "\n",
       "       ds_tipo_empresa  nr_voo nr_singular  id_di  ... nr_bagagem_paga_km  \\\n",
       "0  ESTRANGEIRA REGULAR      85         A01      3  ...                  0   \n",
       "1  ESTRANGEIRA REGULAR     249         A04      3  ...                  0   \n",
       "\n",
       "  nr_bagagem_gratis_km  nr_ask  nr_rpk  nr_atk  nr_rtk id_arquivo  \\\n",
       "0                    0  650400  650400   76313   59182      17799   \n",
       "1                    0  520320  394576   66340   38807      17799   \n",
       "\n",
       "      nm_arquivo nr_linha           dt_sistema  \n",
       "0  AVA202201.txt    121.0  2022-02-11 00:49:00  \n",
       "1  AVA202201.txt     82.0  2022-02-11 00:49:00  \n",
       "\n",
       "[2 rows x 110 columns]"
      ]
     },
     "execution_count": 18,
     "metadata": {},
     "output_type": "execute_result"
    }
   ],
   "source": [
    "_df_basic = pd.read_csv(_path1, sep=';', encoding='latin1')\n",
    "_df_basic.head(2)"
   ]
  }
 ],
 "metadata": {
  "interpreter": {
   "hash": "e498d712bea89263972a134f8b28ce3d9c62157d5c389fcab52812d3ee13c2ba"
  },
  "kernelspec": {
   "display_name": "Python 3.9.6 64-bit",
   "language": "python",
   "name": "python3"
  },
  "language_info": {
   "codemirror_mode": {
    "name": "ipython",
    "version": 3
   },
   "file_extension": ".py",
   "mimetype": "text/x-python",
   "name": "python",
   "nbconvert_exporter": "python",
   "pygments_lexer": "ipython3",
   "version": "3.9.6"
  },
  "orig_nbformat": 4
 },
 "nbformat": 4,
 "nbformat_minor": 2
}
