{
 "cells": [
  {
   "cell_type": "markdown",
   "metadata": {},
   "source": [
    "### Package Python"
   ]
  },
  {
   "cell_type": "code",
   "execution_count": 1,
   "metadata": {},
   "outputs": [],
   "source": [
    "import pandas as pd\n",
    "import numpy as np\n",
    "import xarray as xr\n",
    "import os as os\n",
    "import seaborn as sns\n",
    "import plotly.express as px\n",
    "import matplotlib.pyplot as plt\n",
    "%matplotlib inline"
   ]
  },
  {
   "cell_type": "markdown",
   "metadata": {},
   "source": [
    "### Reading of bases"
   ]
  },
  {
   "cell_type": "code",
   "execution_count": 2,
   "metadata": {},
   "outputs": [
    {
     "data": {
      "text/plain": [
       "'c:\\\\git\\\\Gol_Cases'"
      ]
     },
     "execution_count": 2,
     "metadata": {},
     "output_type": "execute_result"
    }
   ],
   "source": [
    "_path = os.getcwd()\n",
    "_path"
   ]
  },
  {
   "cell_type": "code",
   "execution_count": 3,
   "metadata": {},
   "outputs": [
    {
     "data": {
      "text/plain": [
       "'c:\\\\git\\\\Gol_Cases\\\\data\\\\Case Analytics-DS.xlsx'"
      ]
     },
     "execution_count": 3,
     "metadata": {},
     "output_type": "execute_result"
    }
   ],
   "source": [
    "_path = os.path.join(_path, 'data', 'Case Analytics-DS.xlsx')\n",
    "_path"
   ]
  },
  {
   "cell_type": "code",
   "execution_count": 4,
   "metadata": {},
   "outputs": [
    {
     "data": {
      "text/html": [
       "<div>\n",
       "<style scoped>\n",
       "    .dataframe tbody tr th:only-of-type {\n",
       "        vertical-align: middle;\n",
       "    }\n",
       "\n",
       "    .dataframe tbody tr th {\n",
       "        vertical-align: top;\n",
       "    }\n",
       "\n",
       "    .dataframe thead th {\n",
       "        text-align: right;\n",
       "    }\n",
       "</style>\n",
       "<table border=\"1\" class=\"dataframe\">\n",
       "  <thead>\n",
       "    <tr style=\"text-align: right;\">\n",
       "      <th></th>\n",
       "      <th>Data Venda</th>\n",
       "      <th>Canal de Venda</th>\n",
       "      <th>Local de Venda</th>\n",
       "      <th>PAX</th>\n",
       "      <th>Monetário Vendido</th>\n",
       "      <th>RPK</th>\n",
       "    </tr>\n",
       "  </thead>\n",
       "  <tbody>\n",
       "    <tr>\n",
       "      <th>0</th>\n",
       "      <td>2016-11-01</td>\n",
       "      <td>Telégrafo</td>\n",
       "      <td>Mindscape</td>\n",
       "      <td>30</td>\n",
       "      <td>2188.109487</td>\n",
       "      <td>3476</td>\n",
       "    </tr>\n",
       "    <tr>\n",
       "      <th>1</th>\n",
       "      <td>2016-11-01</td>\n",
       "      <td>TeleVenda</td>\n",
       "      <td>Arena</td>\n",
       "      <td>52</td>\n",
       "      <td>3302.375951</td>\n",
       "      <td>8197</td>\n",
       "    </tr>\n",
       "  </tbody>\n",
       "</table>\n",
       "</div>"
      ],
      "text/plain": [
       "  Data Venda Canal de Venda Local de Venda  PAX  Monetário Vendido   RPK\n",
       "0 2016-11-01      Telégrafo      Mindscape   30        2188.109487  3476\n",
       "1 2016-11-01      TeleVenda          Arena   52        3302.375951  8197"
      ]
     },
     "execution_count": 4,
     "metadata": {},
     "output_type": "execute_result"
    }
   ],
   "source": [
    "_df = pd.read_excel(io=_path, sheet_name='Dados')\n",
    "_df.head(2)"
   ]
  },
  {
   "cell_type": "code",
   "execution_count": 5,
   "metadata": {},
   "outputs": [
    {
     "data": {
      "text/plain": [
       "Index(['data venda', 'canal de venda', 'local de venda', 'pax',\n",
       "       'monetário vendido', 'rpk'],\n",
       "      dtype='object')"
      ]
     },
     "execution_count": 5,
     "metadata": {},
     "output_type": "execute_result"
    }
   ],
   "source": [
    "_df.columns = _df.columns.str.lower()\n",
    "_df.columns"
   ]
  },
  {
   "cell_type": "code",
   "execution_count": 6,
   "metadata": {},
   "outputs": [
    {
     "data": {
      "text/plain": [
       "Index(['data_venda', 'canal_de_venda', 'local_de_venda', 'pax',\n",
       "       'monetário_vendido', 'rpk'],\n",
       "      dtype='object')"
      ]
     },
     "execution_count": 6,
     "metadata": {},
     "output_type": "execute_result"
    }
   ],
   "source": [
    "_df.columns = _df.columns.str.replace(' ', '_')\n",
    "_df.columns"
   ]
  },
  {
   "cell_type": "code",
   "execution_count": 7,
   "metadata": {},
   "outputs": [
    {
     "data": {
      "text/html": [
       "<div>\n",
       "<style scoped>\n",
       "    .dataframe tbody tr th:only-of-type {\n",
       "        vertical-align: middle;\n",
       "    }\n",
       "\n",
       "    .dataframe tbody tr th {\n",
       "        vertical-align: top;\n",
       "    }\n",
       "\n",
       "    .dataframe thead th {\n",
       "        text-align: right;\n",
       "    }\n",
       "</style>\n",
       "<table border=\"1\" class=\"dataframe\">\n",
       "  <thead>\n",
       "    <tr style=\"text-align: right;\">\n",
       "      <th></th>\n",
       "      <th>pax</th>\n",
       "      <th>monetário_vendido</th>\n",
       "      <th>rpk</th>\n",
       "    </tr>\n",
       "  </thead>\n",
       "  <tbody>\n",
       "    <tr>\n",
       "      <th>count</th>\n",
       "      <td>2432.000000</td>\n",
       "      <td>2432.000000</td>\n",
       "      <td>2432.000000</td>\n",
       "    </tr>\n",
       "    <tr>\n",
       "      <th>mean</th>\n",
       "      <td>723.002878</td>\n",
       "      <td>24638.740498</td>\n",
       "      <td>66738.389391</td>\n",
       "    </tr>\n",
       "    <tr>\n",
       "      <th>std</th>\n",
       "      <td>735.936451</td>\n",
       "      <td>22424.842904</td>\n",
       "      <td>83479.039478</td>\n",
       "    </tr>\n",
       "    <tr>\n",
       "      <th>min</th>\n",
       "      <td>18.000000</td>\n",
       "      <td>1041.544400</td>\n",
       "      <td>1127.000000</td>\n",
       "    </tr>\n",
       "    <tr>\n",
       "      <th>25%</th>\n",
       "      <td>100.000000</td>\n",
       "      <td>6122.920492</td>\n",
       "      <td>11372.000000</td>\n",
       "    </tr>\n",
       "    <tr>\n",
       "      <th>50%</th>\n",
       "      <td>395.500000</td>\n",
       "      <td>17755.421730</td>\n",
       "      <td>33361.500000</td>\n",
       "    </tr>\n",
       "    <tr>\n",
       "      <th>75%</th>\n",
       "      <td>1160.250000</td>\n",
       "      <td>35535.323991</td>\n",
       "      <td>95116.750000</td>\n",
       "    </tr>\n",
       "    <tr>\n",
       "      <th>max</th>\n",
       "      <td>4705.000000</td>\n",
       "      <td>144890.731053</td>\n",
       "      <td>695824.000000</td>\n",
       "    </tr>\n",
       "  </tbody>\n",
       "</table>\n",
       "</div>"
      ],
      "text/plain": [
       "               pax  monetário_vendido            rpk\n",
       "count  2432.000000        2432.000000    2432.000000\n",
       "mean    723.002878       24638.740498   66738.389391\n",
       "std     735.936451       22424.842904   83479.039478\n",
       "min      18.000000        1041.544400    1127.000000\n",
       "25%     100.000000        6122.920492   11372.000000\n",
       "50%     395.500000       17755.421730   33361.500000\n",
       "75%    1160.250000       35535.323991   95116.750000\n",
       "max    4705.000000      144890.731053  695824.000000"
      ]
     },
     "execution_count": 7,
     "metadata": {},
     "output_type": "execute_result"
    }
   ],
   "source": [
    "_df.describe()"
   ]
  },
  {
   "cell_type": "code",
   "execution_count": 8,
   "metadata": {},
   "outputs": [
    {
     "name": "stdout",
     "output_type": "stream",
     "text": [
      "<class 'pandas.core.frame.DataFrame'>\n",
      "RangeIndex: 2432 entries, 0 to 2431\n",
      "Data columns (total 6 columns):\n",
      " #   Column             Non-Null Count  Dtype         \n",
      "---  ------             --------------  -----         \n",
      " 0   data_venda         2432 non-null   datetime64[ns]\n",
      " 1   canal_de_venda     2432 non-null   object        \n",
      " 2   local_de_venda     2432 non-null   object        \n",
      " 3   pax                2432 non-null   int64         \n",
      " 4   monetário_vendido  2432 non-null   float64       \n",
      " 5   rpk                2432 non-null   int64         \n",
      "dtypes: datetime64[ns](1), float64(1), int64(2), object(2)\n",
      "memory usage: 114.1+ KB\n"
     ]
    }
   ],
   "source": [
    "_df.info()"
   ]
  },
  {
   "cell_type": "code",
   "execution_count": 9,
   "metadata": {},
   "outputs": [
    {
     "data": {
      "text/plain": [
       "data_venda           datetime64[ns]\n",
       "canal_de_venda               object\n",
       "local_de_venda               object\n",
       "pax                           int64\n",
       "monetário_vendido           float64\n",
       "rpk                           int64\n",
       "dtype: object"
      ]
     },
     "execution_count": 9,
     "metadata": {},
     "output_type": "execute_result"
    }
   ],
   "source": [
    "_df.dtypes"
   ]
  },
  {
   "cell_type": "markdown",
   "metadata": {},
   "source": [
    "* Checking values nan or nulls"
   ]
  },
  {
   "cell_type": "code",
   "execution_count": 10,
   "metadata": {},
   "outputs": [
    {
     "data": {
      "text/plain": [
       "data_venda           0\n",
       "canal_de_venda       0\n",
       "local_de_venda       0\n",
       "pax                  0\n",
       "monetário_vendido    0\n",
       "rpk                  0\n",
       "dtype: int64"
      ]
     },
     "execution_count": 10,
     "metadata": {},
     "output_type": "execute_result"
    }
   ],
   "source": [
    "_df.isna().sum()"
   ]
  },
  {
   "cell_type": "code",
   "execution_count": 11,
   "metadata": {},
   "outputs": [
    {
     "data": {
      "text/plain": [
       "data_venda           0\n",
       "canal_de_venda       0\n",
       "local_de_venda       0\n",
       "pax                  0\n",
       "monetário_vendido    0\n",
       "rpk                  0\n",
       "dtype: int64"
      ]
     },
     "execution_count": 11,
     "metadata": {},
     "output_type": "execute_result"
    }
   ],
   "source": [
    "_df.isnull().sum()"
   ]
  },
  {
   "cell_type": "code",
   "execution_count": 12,
   "metadata": {},
   "outputs": [
    {
     "data": {
      "text/plain": [
       "(2432, 6)"
      ]
     },
     "execution_count": 12,
     "metadata": {},
     "output_type": "execute_result"
    }
   ],
   "source": [
    "_df.shape"
   ]
  },
  {
   "cell_type": "markdown",
   "metadata": {},
   "source": [
    "* PAX é o total de passageiros. \n",
    "* RPK (Revenue Passenger‐Kilometers) é um indicador diretamente relacionada com o número de PAX.  $ {RPK} = {PAX } * {KM} $"
   ]
  },
  {
   "cell_type": "code",
   "execution_count": 13,
   "metadata": {},
   "outputs": [
    {
     "data": {
      "text/html": [
       "<div>\n",
       "<style scoped>\n",
       "    .dataframe tbody tr th:only-of-type {\n",
       "        vertical-align: middle;\n",
       "    }\n",
       "\n",
       "    .dataframe tbody tr th {\n",
       "        vertical-align: top;\n",
       "    }\n",
       "\n",
       "    .dataframe thead th {\n",
       "        text-align: right;\n",
       "    }\n",
       "</style>\n",
       "<table border=\"1\" class=\"dataframe\">\n",
       "  <thead>\n",
       "    <tr style=\"text-align: right;\">\n",
       "      <th></th>\n",
       "      <th>data_venda</th>\n",
       "      <th>canal_de_venda</th>\n",
       "      <th>local_de_venda</th>\n",
       "      <th>pax</th>\n",
       "      <th>monetário_vendido</th>\n",
       "      <th>rpk</th>\n",
       "    </tr>\n",
       "  </thead>\n",
       "  <tbody>\n",
       "    <tr>\n",
       "      <th>0</th>\n",
       "      <td>2016-11-01</td>\n",
       "      <td>Telégrafo</td>\n",
       "      <td>Mindscape</td>\n",
       "      <td>30</td>\n",
       "      <td>2188.109487</td>\n",
       "      <td>3476</td>\n",
       "    </tr>\n",
       "    <tr>\n",
       "      <th>1</th>\n",
       "      <td>2016-11-01</td>\n",
       "      <td>TeleVenda</td>\n",
       "      <td>Arena</td>\n",
       "      <td>52</td>\n",
       "      <td>3302.375951</td>\n",
       "      <td>8197</td>\n",
       "    </tr>\n",
       "    <tr>\n",
       "      <th>2</th>\n",
       "      <td>2016-11-01</td>\n",
       "      <td>TeleVenda</td>\n",
       "      <td>Mindscape</td>\n",
       "      <td>19</td>\n",
       "      <td>1041.544400</td>\n",
       "      <td>2425</td>\n",
       "    </tr>\n",
       "    <tr>\n",
       "      <th>3</th>\n",
       "      <td>2016-11-01</td>\n",
       "      <td>Porta a Porta</td>\n",
       "      <td>Mindscape</td>\n",
       "      <td>496</td>\n",
       "      <td>15566.340547</td>\n",
       "      <td>53278</td>\n",
       "    </tr>\n",
       "    <tr>\n",
       "      <th>4</th>\n",
       "      <td>2016-11-01</td>\n",
       "      <td>TeleVenda</td>\n",
       "      <td>Vast</td>\n",
       "      <td>46</td>\n",
       "      <td>2721.427289</td>\n",
       "      <td>2039</td>\n",
       "    </tr>\n",
       "  </tbody>\n",
       "</table>\n",
       "</div>"
      ],
      "text/plain": [
       "  data_venda canal_de_venda local_de_venda  pax  monetário_vendido    rpk\n",
       "0 2016-11-01      Telégrafo      Mindscape   30        2188.109487   3476\n",
       "1 2016-11-01      TeleVenda          Arena   52        3302.375951   8197\n",
       "2 2016-11-01      TeleVenda      Mindscape   19        1041.544400   2425\n",
       "3 2016-11-01  Porta a Porta      Mindscape  496       15566.340547  53278\n",
       "4 2016-11-01      TeleVenda           Vast   46        2721.427289   2039"
      ]
     },
     "execution_count": 13,
     "metadata": {},
     "output_type": "execute_result"
    }
   ],
   "source": [
    "_df = _df.dropna()\n",
    "_df.head(5)"
   ]
  },
  {
   "cell_type": "markdown",
   "metadata": {},
   "source": [
    "* Adding km"
   ]
  },
  {
   "cell_type": "code",
   "execution_count": 14,
   "metadata": {},
   "outputs": [],
   "source": [
    "_df['km'] = _df['rpk'] / _df['pax']"
   ]
  },
  {
   "cell_type": "markdown",
   "metadata": {},
   "source": [
    "1. Faça um ranking para o número total de PAX por dia da semana."
   ]
  },
  {
   "cell_type": "code",
   "execution_count": 15,
   "metadata": {},
   "outputs": [
    {
     "data": {
      "text/html": [
       "<div>\n",
       "<style scoped>\n",
       "    .dataframe tbody tr th:only-of-type {\n",
       "        vertical-align: middle;\n",
       "    }\n",
       "\n",
       "    .dataframe tbody tr th {\n",
       "        vertical-align: top;\n",
       "    }\n",
       "\n",
       "    .dataframe thead th {\n",
       "        text-align: right;\n",
       "    }\n",
       "</style>\n",
       "<table border=\"1\" class=\"dataframe\">\n",
       "  <thead>\n",
       "    <tr style=\"text-align: right;\">\n",
       "      <th></th>\n",
       "      <th>data_venda</th>\n",
       "      <th>pax</th>\n",
       "      <th>ranking</th>\n",
       "    </tr>\n",
       "  </thead>\n",
       "  <tbody>\n",
       "    <tr>\n",
       "      <th>0</th>\n",
       "      <td>2016-11-01</td>\n",
       "      <td>4538</td>\n",
       "      <td>0</td>\n",
       "    </tr>\n",
       "    <tr>\n",
       "      <th>1</th>\n",
       "      <td>2017-01-16</td>\n",
       "      <td>5751</td>\n",
       "      <td>1</td>\n",
       "    </tr>\n",
       "    <tr>\n",
       "      <th>2</th>\n",
       "      <td>2017-02-13</td>\n",
       "      <td>6127</td>\n",
       "      <td>2</td>\n",
       "    </tr>\n",
       "    <tr>\n",
       "      <th>3</th>\n",
       "      <td>2017-01-17</td>\n",
       "      <td>6197</td>\n",
       "      <td>3</td>\n",
       "    </tr>\n",
       "    <tr>\n",
       "      <th>4</th>\n",
       "      <td>2017-02-14</td>\n",
       "      <td>6298</td>\n",
       "      <td>4</td>\n",
       "    </tr>\n",
       "    <tr>\n",
       "      <th>...</th>\n",
       "      <td>...</td>\n",
       "      <td>...</td>\n",
       "      <td>...</td>\n",
       "    </tr>\n",
       "    <tr>\n",
       "      <th>147</th>\n",
       "      <td>2017-02-06</td>\n",
       "      <td>23444</td>\n",
       "      <td>147</td>\n",
       "    </tr>\n",
       "    <tr>\n",
       "      <th>148</th>\n",
       "      <td>2017-01-10</td>\n",
       "      <td>23460</td>\n",
       "      <td>148</td>\n",
       "    </tr>\n",
       "    <tr>\n",
       "      <th>149</th>\n",
       "      <td>2017-01-11</td>\n",
       "      <td>24298</td>\n",
       "      <td>149</td>\n",
       "    </tr>\n",
       "    <tr>\n",
       "      <th>150</th>\n",
       "      <td>2016-11-14</td>\n",
       "      <td>24551</td>\n",
       "      <td>150</td>\n",
       "    </tr>\n",
       "    <tr>\n",
       "      <th>151</th>\n",
       "      <td>2017-01-09</td>\n",
       "      <td>26247</td>\n",
       "      <td>151</td>\n",
       "    </tr>\n",
       "  </tbody>\n",
       "</table>\n",
       "<p>152 rows × 3 columns</p>\n",
       "</div>"
      ],
      "text/plain": [
       "    data_venda    pax  ranking\n",
       "0   2016-11-01   4538        0\n",
       "1   2017-01-16   5751        1\n",
       "2   2017-02-13   6127        2\n",
       "3   2017-01-17   6197        3\n",
       "4   2017-02-14   6298        4\n",
       "..         ...    ...      ...\n",
       "147 2017-02-06  23444      147\n",
       "148 2017-01-10  23460      148\n",
       "149 2017-01-11  24298      149\n",
       "150 2016-11-14  24551      150\n",
       "151 2017-01-09  26247      151\n",
       "\n",
       "[152 rows x 3 columns]"
      ]
     },
     "execution_count": 15,
     "metadata": {},
     "output_type": "execute_result"
    }
   ],
   "source": [
    "_ranking = _df.groupby(['data_venda'])['pax'].sum().reset_index()\n",
    "_ranking = _ranking.sort_values('pax').reset_index(drop=True)\n",
    "_ranking['ranking'] = _ranking.index\n",
    "_ranking"
   ]
  },
  {
   "cell_type": "markdown",
   "metadata": {},
   "source": [
    "* Shoing the 5 first and lasts PAX of Ranking."
   ]
  },
  {
   "cell_type": "code",
   "execution_count": 16,
   "metadata": {},
   "outputs": [
    {
     "data": {
      "text/html": [
       "<div>\n",
       "<style scoped>\n",
       "    .dataframe tbody tr th:only-of-type {\n",
       "        vertical-align: middle;\n",
       "    }\n",
       "\n",
       "    .dataframe tbody tr th {\n",
       "        vertical-align: top;\n",
       "    }\n",
       "\n",
       "    .dataframe thead th {\n",
       "        text-align: right;\n",
       "    }\n",
       "</style>\n",
       "<table border=\"1\" class=\"dataframe\">\n",
       "  <thead>\n",
       "    <tr style=\"text-align: right;\">\n",
       "      <th></th>\n",
       "      <th>data_venda</th>\n",
       "      <th>pax</th>\n",
       "      <th>ranking</th>\n",
       "    </tr>\n",
       "  </thead>\n",
       "  <tbody>\n",
       "    <tr>\n",
       "      <th>0</th>\n",
       "      <td>2016-11-01</td>\n",
       "      <td>4538</td>\n",
       "      <td>0</td>\n",
       "    </tr>\n",
       "    <tr>\n",
       "      <th>1</th>\n",
       "      <td>2017-01-16</td>\n",
       "      <td>5751</td>\n",
       "      <td>1</td>\n",
       "    </tr>\n",
       "    <tr>\n",
       "      <th>2</th>\n",
       "      <td>2017-02-13</td>\n",
       "      <td>6127</td>\n",
       "      <td>2</td>\n",
       "    </tr>\n",
       "    <tr>\n",
       "      <th>3</th>\n",
       "      <td>2017-01-17</td>\n",
       "      <td>6197</td>\n",
       "      <td>3</td>\n",
       "    </tr>\n",
       "    <tr>\n",
       "      <th>4</th>\n",
       "      <td>2017-02-14</td>\n",
       "      <td>6298</td>\n",
       "      <td>4</td>\n",
       "    </tr>\n",
       "  </tbody>\n",
       "</table>\n",
       "</div>"
      ],
      "text/plain": [
       "  data_venda   pax  ranking\n",
       "0 2016-11-01  4538        0\n",
       "1 2017-01-16  5751        1\n",
       "2 2017-02-13  6127        2\n",
       "3 2017-01-17  6197        3\n",
       "4 2017-02-14  6298        4"
      ]
     },
     "execution_count": 16,
     "metadata": {},
     "output_type": "execute_result"
    }
   ],
   "source": [
    "_ranking.head(5)"
   ]
  },
  {
   "cell_type": "code",
   "execution_count": 17,
   "metadata": {},
   "outputs": [
    {
     "data": {
      "text/html": [
       "<div>\n",
       "<style scoped>\n",
       "    .dataframe tbody tr th:only-of-type {\n",
       "        vertical-align: middle;\n",
       "    }\n",
       "\n",
       "    .dataframe tbody tr th {\n",
       "        vertical-align: top;\n",
       "    }\n",
       "\n",
       "    .dataframe thead th {\n",
       "        text-align: right;\n",
       "    }\n",
       "</style>\n",
       "<table border=\"1\" class=\"dataframe\">\n",
       "  <thead>\n",
       "    <tr style=\"text-align: right;\">\n",
       "      <th></th>\n",
       "      <th>data_venda</th>\n",
       "      <th>pax</th>\n",
       "      <th>ranking</th>\n",
       "    </tr>\n",
       "  </thead>\n",
       "  <tbody>\n",
       "    <tr>\n",
       "      <th>147</th>\n",
       "      <td>2017-02-06</td>\n",
       "      <td>23444</td>\n",
       "      <td>147</td>\n",
       "    </tr>\n",
       "    <tr>\n",
       "      <th>148</th>\n",
       "      <td>2017-01-10</td>\n",
       "      <td>23460</td>\n",
       "      <td>148</td>\n",
       "    </tr>\n",
       "    <tr>\n",
       "      <th>149</th>\n",
       "      <td>2017-01-11</td>\n",
       "      <td>24298</td>\n",
       "      <td>149</td>\n",
       "    </tr>\n",
       "    <tr>\n",
       "      <th>150</th>\n",
       "      <td>2016-11-14</td>\n",
       "      <td>24551</td>\n",
       "      <td>150</td>\n",
       "    </tr>\n",
       "    <tr>\n",
       "      <th>151</th>\n",
       "      <td>2017-01-09</td>\n",
       "      <td>26247</td>\n",
       "      <td>151</td>\n",
       "    </tr>\n",
       "  </tbody>\n",
       "</table>\n",
       "</div>"
      ],
      "text/plain": [
       "    data_venda    pax  ranking\n",
       "147 2017-02-06  23444      147\n",
       "148 2017-01-10  23460      148\n",
       "149 2017-01-11  24298      149\n",
       "150 2016-11-14  24551      150\n",
       "151 2017-01-09  26247      151"
      ]
     },
     "execution_count": 17,
     "metadata": {},
     "output_type": "execute_result"
    }
   ],
   "source": [
    "_ranking.tail(5)"
   ]
  },
  {
   "cell_type": "markdown",
   "metadata": {},
   "source": [
    "* Sum of total of pax"
   ]
  },
  {
   "cell_type": "code",
   "execution_count": 18,
   "metadata": {},
   "outputs": [
    {
     "data": {
      "text/plain": [
       "1758343"
      ]
     },
     "execution_count": 18,
     "metadata": {},
     "output_type": "execute_result"
    }
   ],
   "source": [
    "_df['pax'].sum()"
   ]
  },
  {
   "cell_type": "code",
   "execution_count": 19,
   "metadata": {},
   "outputs": [
    {
     "data": {
      "text/plain": [
       "1758343"
      ]
     },
     "execution_count": 19,
     "metadata": {},
     "output_type": "execute_result"
    }
   ],
   "source": [
    "_ranking['pax'].sum()"
   ]
  },
  {
   "cell_type": "code",
   "execution_count": 20,
   "metadata": {},
   "outputs": [
    {
     "data": {
      "text/plain": [
       "162307763"
      ]
     },
     "execution_count": 20,
     "metadata": {},
     "output_type": "execute_result"
    }
   ],
   "source": [
    "_df['rpk'].sum()"
   ]
  },
  {
   "cell_type": "markdown",
   "metadata": {},
   "source": [
    "2. Qual a correlação de sábado e domingo somados com o total de RPK?"
   ]
  },
  {
   "cell_type": "code",
   "execution_count": 21,
   "metadata": {},
   "outputs": [],
   "source": [
    "from datetime import date\n",
    "\n",
    "def find_day(year,  month, day):\n",
    "\n",
    "    DIAS = [\n",
    "        'Segunda-feira',\n",
    "        'Terça-feira',\n",
    "        'Quarta-feira',\n",
    "        'Quinta-feira',\n",
    "        'Sexta-feira',\n",
    "        'Sábado',\n",
    "        'Domingo'\n",
    "    ]\n",
    "\n",
    "    data = date(year=year,  month=month, day=day)\n",
    "    # print(data)\n",
    "\n",
    "    indice_da_semana = data.weekday()\n",
    "    # print(indice_da_semana)\n",
    "\n",
    "    dia_da_semana = DIAS[indice_da_semana]\n",
    "    # print(dia_da_semana)\n",
    "    return dia_da_semana"
   ]
  },
  {
   "cell_type": "code",
   "execution_count": 22,
   "metadata": {},
   "outputs": [
    {
     "data": {
      "text/html": [
       "<div>\n",
       "<style scoped>\n",
       "    .dataframe tbody tr th:only-of-type {\n",
       "        vertical-align: middle;\n",
       "    }\n",
       "\n",
       "    .dataframe tbody tr th {\n",
       "        vertical-align: top;\n",
       "    }\n",
       "\n",
       "    .dataframe thead th {\n",
       "        text-align: right;\n",
       "    }\n",
       "</style>\n",
       "<table border=\"1\" class=\"dataframe\">\n",
       "  <thead>\n",
       "    <tr style=\"text-align: right;\">\n",
       "      <th></th>\n",
       "      <th>data_venda</th>\n",
       "      <th>canal_de_venda</th>\n",
       "      <th>local_de_venda</th>\n",
       "      <th>pax</th>\n",
       "      <th>monetário_vendido</th>\n",
       "      <th>rpk</th>\n",
       "      <th>km</th>\n",
       "      <th>data_venda_str</th>\n",
       "    </tr>\n",
       "  </thead>\n",
       "  <tbody>\n",
       "    <tr>\n",
       "      <th>0</th>\n",
       "      <td>2016-11-01</td>\n",
       "      <td>Telégrafo</td>\n",
       "      <td>Mindscape</td>\n",
       "      <td>30</td>\n",
       "      <td>2188.109487</td>\n",
       "      <td>3476</td>\n",
       "      <td>115.866667</td>\n",
       "      <td>2016-11-01</td>\n",
       "    </tr>\n",
       "    <tr>\n",
       "      <th>1</th>\n",
       "      <td>2016-11-01</td>\n",
       "      <td>TeleVenda</td>\n",
       "      <td>Arena</td>\n",
       "      <td>52</td>\n",
       "      <td>3302.375951</td>\n",
       "      <td>8197</td>\n",
       "      <td>157.634615</td>\n",
       "      <td>2016-11-01</td>\n",
       "    </tr>\n",
       "    <tr>\n",
       "      <th>2</th>\n",
       "      <td>2016-11-01</td>\n",
       "      <td>TeleVenda</td>\n",
       "      <td>Mindscape</td>\n",
       "      <td>19</td>\n",
       "      <td>1041.544400</td>\n",
       "      <td>2425</td>\n",
       "      <td>127.631579</td>\n",
       "      <td>2016-11-01</td>\n",
       "    </tr>\n",
       "    <tr>\n",
       "      <th>3</th>\n",
       "      <td>2016-11-01</td>\n",
       "      <td>Porta a Porta</td>\n",
       "      <td>Mindscape</td>\n",
       "      <td>496</td>\n",
       "      <td>15566.340547</td>\n",
       "      <td>53278</td>\n",
       "      <td>107.415323</td>\n",
       "      <td>2016-11-01</td>\n",
       "    </tr>\n",
       "    <tr>\n",
       "      <th>4</th>\n",
       "      <td>2016-11-01</td>\n",
       "      <td>TeleVenda</td>\n",
       "      <td>Vast</td>\n",
       "      <td>46</td>\n",
       "      <td>2721.427289</td>\n",
       "      <td>2039</td>\n",
       "      <td>44.326087</td>\n",
       "      <td>2016-11-01</td>\n",
       "    </tr>\n",
       "  </tbody>\n",
       "</table>\n",
       "</div>"
      ],
      "text/plain": [
       "  data_venda canal_de_venda local_de_venda  pax  monetário_vendido    rpk  \\\n",
       "0 2016-11-01      Telégrafo      Mindscape   30        2188.109487   3476   \n",
       "1 2016-11-01      TeleVenda          Arena   52        3302.375951   8197   \n",
       "2 2016-11-01      TeleVenda      Mindscape   19        1041.544400   2425   \n",
       "3 2016-11-01  Porta a Porta      Mindscape  496       15566.340547  53278   \n",
       "4 2016-11-01      TeleVenda           Vast   46        2721.427289   2039   \n",
       "\n",
       "           km data_venda_str  \n",
       "0  115.866667     2016-11-01  \n",
       "1  157.634615     2016-11-01  \n",
       "2  127.631579     2016-11-01  \n",
       "3  107.415323     2016-11-01  \n",
       "4   44.326087     2016-11-01  "
      ]
     },
     "execution_count": 22,
     "metadata": {},
     "output_type": "execute_result"
    }
   ],
   "source": [
    "_df['data_venda_str'] = _df['data_venda'].astype(str)\n",
    "_df.head(5)"
   ]
  },
  {
   "cell_type": "code",
   "execution_count": 23,
   "metadata": {},
   "outputs": [
    {
     "data": {
      "text/html": [
       "<div>\n",
       "<style scoped>\n",
       "    .dataframe tbody tr th:only-of-type {\n",
       "        vertical-align: middle;\n",
       "    }\n",
       "\n",
       "    .dataframe tbody tr th {\n",
       "        vertical-align: top;\n",
       "    }\n",
       "\n",
       "    .dataframe thead th {\n",
       "        text-align: right;\n",
       "    }\n",
       "</style>\n",
       "<table border=\"1\" class=\"dataframe\">\n",
       "  <thead>\n",
       "    <tr style=\"text-align: right;\">\n",
       "      <th></th>\n",
       "      <th>0</th>\n",
       "      <th>1</th>\n",
       "      <th>2</th>\n",
       "    </tr>\n",
       "  </thead>\n",
       "  <tbody>\n",
       "    <tr>\n",
       "      <th>0</th>\n",
       "      <td>2016</td>\n",
       "      <td>11</td>\n",
       "      <td>01</td>\n",
       "    </tr>\n",
       "    <tr>\n",
       "      <th>1</th>\n",
       "      <td>2016</td>\n",
       "      <td>11</td>\n",
       "      <td>01</td>\n",
       "    </tr>\n",
       "    <tr>\n",
       "      <th>2</th>\n",
       "      <td>2016</td>\n",
       "      <td>11</td>\n",
       "      <td>01</td>\n",
       "    </tr>\n",
       "    <tr>\n",
       "      <th>3</th>\n",
       "      <td>2016</td>\n",
       "      <td>11</td>\n",
       "      <td>01</td>\n",
       "    </tr>\n",
       "    <tr>\n",
       "      <th>4</th>\n",
       "      <td>2016</td>\n",
       "      <td>11</td>\n",
       "      <td>01</td>\n",
       "    </tr>\n",
       "    <tr>\n",
       "      <th>...</th>\n",
       "      <td>...</td>\n",
       "      <td>...</td>\n",
       "      <td>...</td>\n",
       "    </tr>\n",
       "    <tr>\n",
       "      <th>2427</th>\n",
       "      <td>2017</td>\n",
       "      <td>04</td>\n",
       "      <td>01</td>\n",
       "    </tr>\n",
       "    <tr>\n",
       "      <th>2428</th>\n",
       "      <td>2017</td>\n",
       "      <td>04</td>\n",
       "      <td>01</td>\n",
       "    </tr>\n",
       "    <tr>\n",
       "      <th>2429</th>\n",
       "      <td>2017</td>\n",
       "      <td>04</td>\n",
       "      <td>01</td>\n",
       "    </tr>\n",
       "    <tr>\n",
       "      <th>2430</th>\n",
       "      <td>2017</td>\n",
       "      <td>04</td>\n",
       "      <td>01</td>\n",
       "    </tr>\n",
       "    <tr>\n",
       "      <th>2431</th>\n",
       "      <td>2017</td>\n",
       "      <td>04</td>\n",
       "      <td>01</td>\n",
       "    </tr>\n",
       "  </tbody>\n",
       "</table>\n",
       "<p>2432 rows × 3 columns</p>\n",
       "</div>"
      ],
      "text/plain": [
       "         0   1   2\n",
       "0     2016  11  01\n",
       "1     2016  11  01\n",
       "2     2016  11  01\n",
       "3     2016  11  01\n",
       "4     2016  11  01\n",
       "...    ...  ..  ..\n",
       "2427  2017  04  01\n",
       "2428  2017  04  01\n",
       "2429  2017  04  01\n",
       "2430  2017  04  01\n",
       "2431  2017  04  01\n",
       "\n",
       "[2432 rows x 3 columns]"
      ]
     },
     "execution_count": 23,
     "metadata": {},
     "output_type": "execute_result"
    }
   ],
   "source": [
    "_df['data_venda_str'].str.split('-', expand=True)"
   ]
  },
  {
   "cell_type": "code",
   "execution_count": 24,
   "metadata": {},
   "outputs": [],
   "source": [
    "_df['year'] = _df['data_venda_str'].str.split('-', expand=True)[0]\n",
    "_df['month'] = _df['data_venda_str'].str.split('-', expand=True)[1]\n",
    "_df['day'] = _df['data_venda_str'].str.split('-', expand=True)[2]"
   ]
  },
  {
   "cell_type": "code",
   "execution_count": 25,
   "metadata": {},
   "outputs": [
    {
     "data": {
      "text/html": [
       "<div>\n",
       "<style scoped>\n",
       "    .dataframe tbody tr th:only-of-type {\n",
       "        vertical-align: middle;\n",
       "    }\n",
       "\n",
       "    .dataframe tbody tr th {\n",
       "        vertical-align: top;\n",
       "    }\n",
       "\n",
       "    .dataframe thead th {\n",
       "        text-align: right;\n",
       "    }\n",
       "</style>\n",
       "<table border=\"1\" class=\"dataframe\">\n",
       "  <thead>\n",
       "    <tr style=\"text-align: right;\">\n",
       "      <th></th>\n",
       "      <th>data_venda</th>\n",
       "      <th>canal_de_venda</th>\n",
       "      <th>local_de_venda</th>\n",
       "      <th>pax</th>\n",
       "      <th>monetário_vendido</th>\n",
       "      <th>rpk</th>\n",
       "      <th>km</th>\n",
       "      <th>data_venda_str</th>\n",
       "      <th>year</th>\n",
       "      <th>month</th>\n",
       "      <th>day</th>\n",
       "    </tr>\n",
       "  </thead>\n",
       "  <tbody>\n",
       "    <tr>\n",
       "      <th>0</th>\n",
       "      <td>2016-11-01</td>\n",
       "      <td>Telégrafo</td>\n",
       "      <td>Mindscape</td>\n",
       "      <td>30</td>\n",
       "      <td>2188.109487</td>\n",
       "      <td>3476</td>\n",
       "      <td>115.866667</td>\n",
       "      <td>2016-11-01</td>\n",
       "      <td>2016</td>\n",
       "      <td>11</td>\n",
       "      <td>01</td>\n",
       "    </tr>\n",
       "    <tr>\n",
       "      <th>1</th>\n",
       "      <td>2016-11-01</td>\n",
       "      <td>TeleVenda</td>\n",
       "      <td>Arena</td>\n",
       "      <td>52</td>\n",
       "      <td>3302.375951</td>\n",
       "      <td>8197</td>\n",
       "      <td>157.634615</td>\n",
       "      <td>2016-11-01</td>\n",
       "      <td>2016</td>\n",
       "      <td>11</td>\n",
       "      <td>01</td>\n",
       "    </tr>\n",
       "    <tr>\n",
       "      <th>2</th>\n",
       "      <td>2016-11-01</td>\n",
       "      <td>TeleVenda</td>\n",
       "      <td>Mindscape</td>\n",
       "      <td>19</td>\n",
       "      <td>1041.544400</td>\n",
       "      <td>2425</td>\n",
       "      <td>127.631579</td>\n",
       "      <td>2016-11-01</td>\n",
       "      <td>2016</td>\n",
       "      <td>11</td>\n",
       "      <td>01</td>\n",
       "    </tr>\n",
       "    <tr>\n",
       "      <th>3</th>\n",
       "      <td>2016-11-01</td>\n",
       "      <td>Porta a Porta</td>\n",
       "      <td>Mindscape</td>\n",
       "      <td>496</td>\n",
       "      <td>15566.340547</td>\n",
       "      <td>53278</td>\n",
       "      <td>107.415323</td>\n",
       "      <td>2016-11-01</td>\n",
       "      <td>2016</td>\n",
       "      <td>11</td>\n",
       "      <td>01</td>\n",
       "    </tr>\n",
       "    <tr>\n",
       "      <th>4</th>\n",
       "      <td>2016-11-01</td>\n",
       "      <td>TeleVenda</td>\n",
       "      <td>Vast</td>\n",
       "      <td>46</td>\n",
       "      <td>2721.427289</td>\n",
       "      <td>2039</td>\n",
       "      <td>44.326087</td>\n",
       "      <td>2016-11-01</td>\n",
       "      <td>2016</td>\n",
       "      <td>11</td>\n",
       "      <td>01</td>\n",
       "    </tr>\n",
       "  </tbody>\n",
       "</table>\n",
       "</div>"
      ],
      "text/plain": [
       "  data_venda canal_de_venda local_de_venda  pax  monetário_vendido    rpk  \\\n",
       "0 2016-11-01      Telégrafo      Mindscape   30        2188.109487   3476   \n",
       "1 2016-11-01      TeleVenda          Arena   52        3302.375951   8197   \n",
       "2 2016-11-01      TeleVenda      Mindscape   19        1041.544400   2425   \n",
       "3 2016-11-01  Porta a Porta      Mindscape  496       15566.340547  53278   \n",
       "4 2016-11-01      TeleVenda           Vast   46        2721.427289   2039   \n",
       "\n",
       "           km data_venda_str  year month day  \n",
       "0  115.866667     2016-11-01  2016    11  01  \n",
       "1  157.634615     2016-11-01  2016    11  01  \n",
       "2  127.631579     2016-11-01  2016    11  01  \n",
       "3  107.415323     2016-11-01  2016    11  01  \n",
       "4   44.326087     2016-11-01  2016    11  01  "
      ]
     },
     "execution_count": 25,
     "metadata": {},
     "output_type": "execute_result"
    }
   ],
   "source": [
    "_df.head()"
   ]
  },
  {
   "cell_type": "code",
   "execution_count": 26,
   "metadata": {},
   "outputs": [],
   "source": [
    "_df['dias_da_semana'] = _df.apply( lambda x: find_day(int(x['year']), int(x['month']), int(x['day'])), axis=1 )\n"
   ]
  },
  {
   "cell_type": "code",
   "execution_count": 27,
   "metadata": {},
   "outputs": [
    {
     "data": {
      "text/html": [
       "<div>\n",
       "<style scoped>\n",
       "    .dataframe tbody tr th:only-of-type {\n",
       "        vertical-align: middle;\n",
       "    }\n",
       "\n",
       "    .dataframe tbody tr th {\n",
       "        vertical-align: top;\n",
       "    }\n",
       "\n",
       "    .dataframe thead th {\n",
       "        text-align: right;\n",
       "    }\n",
       "</style>\n",
       "<table border=\"1\" class=\"dataframe\">\n",
       "  <thead>\n",
       "    <tr style=\"text-align: right;\">\n",
       "      <th></th>\n",
       "      <th>data_venda</th>\n",
       "      <th>canal_de_venda</th>\n",
       "      <th>local_de_venda</th>\n",
       "      <th>pax</th>\n",
       "      <th>monetário_vendido</th>\n",
       "      <th>rpk</th>\n",
       "      <th>km</th>\n",
       "      <th>data_venda_str</th>\n",
       "      <th>year</th>\n",
       "      <th>month</th>\n",
       "      <th>day</th>\n",
       "      <th>dias_da_semana</th>\n",
       "    </tr>\n",
       "  </thead>\n",
       "  <tbody>\n",
       "    <tr>\n",
       "      <th>0</th>\n",
       "      <td>2016-11-01</td>\n",
       "      <td>Telégrafo</td>\n",
       "      <td>Mindscape</td>\n",
       "      <td>30</td>\n",
       "      <td>2188.109487</td>\n",
       "      <td>3476</td>\n",
       "      <td>115.866667</td>\n",
       "      <td>2016-11-01</td>\n",
       "      <td>2016</td>\n",
       "      <td>11</td>\n",
       "      <td>01</td>\n",
       "      <td>Terça-feira</td>\n",
       "    </tr>\n",
       "    <tr>\n",
       "      <th>1</th>\n",
       "      <td>2016-11-01</td>\n",
       "      <td>TeleVenda</td>\n",
       "      <td>Arena</td>\n",
       "      <td>52</td>\n",
       "      <td>3302.375951</td>\n",
       "      <td>8197</td>\n",
       "      <td>157.634615</td>\n",
       "      <td>2016-11-01</td>\n",
       "      <td>2016</td>\n",
       "      <td>11</td>\n",
       "      <td>01</td>\n",
       "      <td>Terça-feira</td>\n",
       "    </tr>\n",
       "    <tr>\n",
       "      <th>2</th>\n",
       "      <td>2016-11-01</td>\n",
       "      <td>TeleVenda</td>\n",
       "      <td>Mindscape</td>\n",
       "      <td>19</td>\n",
       "      <td>1041.544400</td>\n",
       "      <td>2425</td>\n",
       "      <td>127.631579</td>\n",
       "      <td>2016-11-01</td>\n",
       "      <td>2016</td>\n",
       "      <td>11</td>\n",
       "      <td>01</td>\n",
       "      <td>Terça-feira</td>\n",
       "    </tr>\n",
       "    <tr>\n",
       "      <th>3</th>\n",
       "      <td>2016-11-01</td>\n",
       "      <td>Porta a Porta</td>\n",
       "      <td>Mindscape</td>\n",
       "      <td>496</td>\n",
       "      <td>15566.340547</td>\n",
       "      <td>53278</td>\n",
       "      <td>107.415323</td>\n",
       "      <td>2016-11-01</td>\n",
       "      <td>2016</td>\n",
       "      <td>11</td>\n",
       "      <td>01</td>\n",
       "      <td>Terça-feira</td>\n",
       "    </tr>\n",
       "    <tr>\n",
       "      <th>4</th>\n",
       "      <td>2016-11-01</td>\n",
       "      <td>TeleVenda</td>\n",
       "      <td>Vast</td>\n",
       "      <td>46</td>\n",
       "      <td>2721.427289</td>\n",
       "      <td>2039</td>\n",
       "      <td>44.326087</td>\n",
       "      <td>2016-11-01</td>\n",
       "      <td>2016</td>\n",
       "      <td>11</td>\n",
       "      <td>01</td>\n",
       "      <td>Terça-feira</td>\n",
       "    </tr>\n",
       "  </tbody>\n",
       "</table>\n",
       "</div>"
      ],
      "text/plain": [
       "  data_venda canal_de_venda local_de_venda  pax  monetário_vendido    rpk  \\\n",
       "0 2016-11-01      Telégrafo      Mindscape   30        2188.109487   3476   \n",
       "1 2016-11-01      TeleVenda          Arena   52        3302.375951   8197   \n",
       "2 2016-11-01      TeleVenda      Mindscape   19        1041.544400   2425   \n",
       "3 2016-11-01  Porta a Porta      Mindscape  496       15566.340547  53278   \n",
       "4 2016-11-01      TeleVenda           Vast   46        2721.427289   2039   \n",
       "\n",
       "           km data_venda_str  year month day dias_da_semana  \n",
       "0  115.866667     2016-11-01  2016    11  01    Terça-feira  \n",
       "1  157.634615     2016-11-01  2016    11  01    Terça-feira  \n",
       "2  127.631579     2016-11-01  2016    11  01    Terça-feira  \n",
       "3  107.415323     2016-11-01  2016    11  01    Terça-feira  \n",
       "4   44.326087     2016-11-01  2016    11  01    Terça-feira  "
      ]
     },
     "execution_count": 27,
     "metadata": {},
     "output_type": "execute_result"
    }
   ],
   "source": [
    "_df.head(5)"
   ]
  },
  {
   "cell_type": "code",
   "execution_count": 43,
   "metadata": {},
   "outputs": [
    {
     "data": {
      "text/html": [
       "<div>\n",
       "<style scoped>\n",
       "    .dataframe tbody tr th:only-of-type {\n",
       "        vertical-align: middle;\n",
       "    }\n",
       "\n",
       "    .dataframe tbody tr th {\n",
       "        vertical-align: top;\n",
       "    }\n",
       "\n",
       "    .dataframe thead th {\n",
       "        text-align: right;\n",
       "    }\n",
       "</style>\n",
       "<table border=\"1\" class=\"dataframe\">\n",
       "  <thead>\n",
       "    <tr style=\"text-align: right;\">\n",
       "      <th></th>\n",
       "      <th>data_venda</th>\n",
       "      <th>rpk</th>\n",
       "    </tr>\n",
       "  </thead>\n",
       "  <tbody>\n",
       "    <tr>\n",
       "      <th>0</th>\n",
       "      <td>2016-11-01</td>\n",
       "      <td>367479</td>\n",
       "    </tr>\n",
       "    <tr>\n",
       "      <th>1</th>\n",
       "      <td>2016-11-02</td>\n",
       "      <td>837263</td>\n",
       "    </tr>\n",
       "    <tr>\n",
       "      <th>2</th>\n",
       "      <td>2016-11-03</td>\n",
       "      <td>1051716</td>\n",
       "    </tr>\n",
       "    <tr>\n",
       "      <th>3</th>\n",
       "      <td>2016-11-04</td>\n",
       "      <td>968225</td>\n",
       "    </tr>\n",
       "    <tr>\n",
       "      <th>4</th>\n",
       "      <td>2016-11-05</td>\n",
       "      <td>1069765</td>\n",
       "    </tr>\n",
       "  </tbody>\n",
       "</table>\n",
       "</div>"
      ],
      "text/plain": [
       "  data_venda      rpk\n",
       "0 2016-11-01   367479\n",
       "1 2016-11-02   837263\n",
       "2 2016-11-03  1051716\n",
       "3 2016-11-04   968225\n",
       "4 2016-11-05  1069765"
      ]
     },
     "execution_count": 43,
     "metadata": {},
     "output_type": "execute_result"
    }
   ],
   "source": [
    "_df2 = _df[['data_venda', 'dias_da_semana', 'rpk']]\n",
    "_df2 = _df2.groupby(['data_venda']).sum().reset_index()\n",
    "_df2.head(5)"
   ]
  },
  {
   "cell_type": "code",
   "execution_count": 47,
   "metadata": {},
   "outputs": [
    {
     "data": {
      "text/plain": [
       "Timestamp('2016-11-01 00:00:00')"
      ]
     },
     "execution_count": 47,
     "metadata": {},
     "output_type": "execute_result"
    }
   ],
   "source": [
    "_df2['data_venda'].min()"
   ]
  },
  {
   "cell_type": "code",
   "execution_count": 48,
   "metadata": {},
   "outputs": [
    {
     "data": {
      "text/plain": [
       "Timestamp('2017-04-01 00:00:00')"
      ]
     },
     "execution_count": 48,
     "metadata": {},
     "output_type": "execute_result"
    }
   ],
   "source": [
    "_df2['data_venda'].max()"
   ]
  },
  {
   "cell_type": "code",
   "execution_count": 51,
   "metadata": {},
   "outputs": [
    {
     "data": {
      "image/png": "[encoded data removed]",
      "text/plain": [
       "<Figure size 2160x720 with 1 Axes>"
      ]
     },
     "metadata": {},
     "output_type": "display_data"
    }
   ],
   "source": [
    "sns.set_palette('Accent')\n",
    "sns.set_style('darkgrid')\n",
    "ax = sns.lineplot(x = 'data_venda', y = 'rpk', data = _df2)\n",
    "ax.figure.set_size_inches(30, 10)\n",
    "# ax.set(xticks=_df2.data_venda.values)\n",
    "ax.set_title('Passageiro por Km', loc='left', fontsize=18)\n",
    "ax.set_xlabel('Dias', fontsize=14)\n",
    "ax.set_ylabel('RPK', fontsize=14)\n",
    "ax = ax"
   ]
  },
  {
   "cell_type": "code",
   "execution_count": 30,
   "metadata": {},
   "outputs": [
    {
     "name": "stderr",
     "output_type": "stream",
     "text": [
      "C:\\Users\\conta\\AppData\\Local\\Temp/ipykernel_10548/3433924337.py:2: SettingWithCopyWarning: \n",
      "A value is trying to be set on a copy of a slice from a DataFrame.\n",
      "Try using .loc[row_indexer,col_indexer] = value instead\n",
      "\n",
      "See the caveats in the documentation: https://pandas.pydata.org/pandas-docs/stable/user_guide/indexing.html#returning-a-view-versus-a-copy\n",
      "  _df4['order'] = _df4['dias_da_semana'].map({'Segunda-feira':1, 'Terça-feira':2, 'Quarta-feira':3, 'Quinta-feira':4, 'Sexta-feira':5, 'Sábado':6, 'Domingo':7})\n"
     ]
    },
    {
     "data": {
      "text/html": [
       "<div>\n",
       "<style scoped>\n",
       "    .dataframe tbody tr th:only-of-type {\n",
       "        vertical-align: middle;\n",
       "    }\n",
       "\n",
       "    .dataframe tbody tr th {\n",
       "        vertical-align: top;\n",
       "    }\n",
       "\n",
       "    .dataframe thead th {\n",
       "        text-align: right;\n",
       "    }\n",
       "</style>\n",
       "<table border=\"1\" class=\"dataframe\">\n",
       "  <thead>\n",
       "    <tr style=\"text-align: right;\">\n",
       "      <th></th>\n",
       "      <th>dias_da_semana</th>\n",
       "      <th>rpk</th>\n",
       "    </tr>\n",
       "  </thead>\n",
       "  <tbody>\n",
       "    <tr>\n",
       "      <th>3</th>\n",
       "      <td>Segunda-feira</td>\n",
       "      <td>23275908</td>\n",
       "    </tr>\n",
       "    <tr>\n",
       "      <th>6</th>\n",
       "      <td>Terça-feira</td>\n",
       "      <td>20366840</td>\n",
       "    </tr>\n",
       "    <tr>\n",
       "      <th>1</th>\n",
       "      <td>Quarta-feira</td>\n",
       "      <td>26263705</td>\n",
       "    </tr>\n",
       "    <tr>\n",
       "      <th>2</th>\n",
       "      <td>Quinta-feira</td>\n",
       "      <td>23501102</td>\n",
       "    </tr>\n",
       "    <tr>\n",
       "      <th>4</th>\n",
       "      <td>Sexta-feira</td>\n",
       "      <td>23309936</td>\n",
       "    </tr>\n",
       "    <tr>\n",
       "      <th>5</th>\n",
       "      <td>Sábado</td>\n",
       "      <td>23201577</td>\n",
       "    </tr>\n",
       "    <tr>\n",
       "      <th>0</th>\n",
       "      <td>Domingo</td>\n",
       "      <td>22388695</td>\n",
       "    </tr>\n",
       "  </tbody>\n",
       "</table>\n",
       "</div>"
      ],
      "text/plain": [
       "  dias_da_semana       rpk\n",
       "3  Segunda-feira  23275908\n",
       "6    Terça-feira  20366840\n",
       "1   Quarta-feira  26263705\n",
       "2   Quinta-feira  23501102\n",
       "4    Sexta-feira  23309936\n",
       "5         Sábado  23201577\n",
       "0        Domingo  22388695"
      ]
     },
     "execution_count": 30,
     "metadata": {},
     "output_type": "execute_result"
    }
   ],
   "source": [
    "_df4 = _df[['data_venda', 'dias_da_semana', 'rpk']]\n",
    "_df4['order'] = _df4['dias_da_semana'].map({'Segunda-feira':1, 'Terça-feira':2, 'Quarta-feira':3, 'Quinta-feira':4, 'Sexta-feira':5, 'Sábado':6, 'Domingo':7})\n",
    "_df4 = _df4.groupby(['dias_da_semana']).sum().reset_index()\n",
    "_df4['order'] = _df4['dias_da_semana'].map({'Segunda-feira':1, 'Terça-feira':2, 'Quarta-feira':3, 'Quinta-feira':4, 'Sexta-feira':5, 'Sábado':6, 'Domingo':7})\n",
    "_df4 = _df4.sort_values(['order'])\n",
    "_df4 = _df4.drop(columns='order')\n",
    "_df4"
   ]
  },
  {
   "cell_type": "code",
   "execution_count": 31,
   "metadata": {},
   "outputs": [
    {
     "data": {
      "image/png": "[encoded data removed]",
      "text/plain": [
       "<Figure size 1440x720 with 1 Axes>"
      ]
     },
     "metadata": {},
     "output_type": "display_data"
    }
   ],
   "source": [
    "sns.set_palette('Accent')\n",
    "sns.set_style('darkgrid')\n",
    "ax = sns.barplot(x = 'dias_da_semana', y = 'rpk', data = _df4)\n",
    "ax.figure.set_size_inches(20, 10)\n",
    "ax.set_title('Passageiro por Km', loc='left', fontsize=18)\n",
    "ax.set_xlabel('Dias da Semana', fontsize=14)\n",
    "ax.set_ylabel('RPK', fontsize=14)\n",
    "for i in ax.containers:\n",
    "    ax.bar_label(i)\n"
   ]
  },
  {
   "cell_type": "code",
   "execution_count": 32,
   "metadata": {},
   "outputs": [
    {
     "data": {
      "text/html": [
       "<div>\n",
       "<style scoped>\n",
       "    .dataframe tbody tr th:only-of-type {\n",
       "        vertical-align: middle;\n",
       "    }\n",
       "\n",
       "    .dataframe tbody tr th {\n",
       "        vertical-align: top;\n",
       "    }\n",
       "\n",
       "    .dataframe thead th {\n",
       "        text-align: right;\n",
       "    }\n",
       "</style>\n",
       "<table border=\"1\" class=\"dataframe\">\n",
       "  <thead>\n",
       "    <tr style=\"text-align: right;\">\n",
       "      <th></th>\n",
       "      <th>data_venda</th>\n",
       "      <th>canal_de_venda</th>\n",
       "      <th>local_de_venda</th>\n",
       "      <th>pax</th>\n",
       "      <th>monetário_vendido</th>\n",
       "      <th>rpk</th>\n",
       "      <th>km</th>\n",
       "      <th>data_venda_str</th>\n",
       "      <th>year</th>\n",
       "      <th>month</th>\n",
       "      <th>day</th>\n",
       "      <th>dias_da_semana</th>\n",
       "    </tr>\n",
       "  </thead>\n",
       "  <tbody>\n",
       "    <tr>\n",
       "      <th>64</th>\n",
       "      <td>2016-11-05</td>\n",
       "      <td>TeleVenda</td>\n",
       "      <td>Mindscape</td>\n",
       "      <td>1378</td>\n",
       "      <td>60813.490656</td>\n",
       "      <td>164710</td>\n",
       "      <td>119.528302</td>\n",
       "      <td>2016-11-05</td>\n",
       "      <td>2016</td>\n",
       "      <td>11</td>\n",
       "      <td>05</td>\n",
       "      <td>Sábado</td>\n",
       "    </tr>\n",
       "    <tr>\n",
       "      <th>65</th>\n",
       "      <td>2016-11-05</td>\n",
       "      <td>Telégrafo</td>\n",
       "      <td>Ellipsis</td>\n",
       "      <td>42</td>\n",
       "      <td>2695.438460</td>\n",
       "      <td>2399</td>\n",
       "      <td>57.119048</td>\n",
       "      <td>2016-11-05</td>\n",
       "      <td>2016</td>\n",
       "      <td>11</td>\n",
       "      <td>05</td>\n",
       "      <td>Sábado</td>\n",
       "    </tr>\n",
       "    <tr>\n",
       "      <th>66</th>\n",
       "      <td>2016-11-05</td>\n",
       "      <td>TeleVenda</td>\n",
       "      <td>Arena</td>\n",
       "      <td>206</td>\n",
       "      <td>15726.530904</td>\n",
       "      <td>32153</td>\n",
       "      <td>156.082524</td>\n",
       "      <td>2016-11-05</td>\n",
       "      <td>2016</td>\n",
       "      <td>11</td>\n",
       "      <td>05</td>\n",
       "      <td>Sábado</td>\n",
       "    </tr>\n",
       "    <tr>\n",
       "      <th>67</th>\n",
       "      <td>2016-11-05</td>\n",
       "      <td>Porta a Porta</td>\n",
       "      <td>Vast</td>\n",
       "      <td>1314</td>\n",
       "      <td>30005.759983</td>\n",
       "      <td>61962</td>\n",
       "      <td>47.155251</td>\n",
       "      <td>2016-11-05</td>\n",
       "      <td>2016</td>\n",
       "      <td>11</td>\n",
       "      <td>05</td>\n",
       "      <td>Sábado</td>\n",
       "    </tr>\n",
       "    <tr>\n",
       "      <th>68</th>\n",
       "      <td>2016-11-05</td>\n",
       "      <td>Porta a Porta</td>\n",
       "      <td>Mindscape</td>\n",
       "      <td>877</td>\n",
       "      <td>34594.723120</td>\n",
       "      <td>98153</td>\n",
       "      <td>111.919042</td>\n",
       "      <td>2016-11-05</td>\n",
       "      <td>2016</td>\n",
       "      <td>11</td>\n",
       "      <td>05</td>\n",
       "      <td>Sábado</td>\n",
       "    </tr>\n",
       "  </tbody>\n",
       "</table>\n",
       "</div>"
      ],
      "text/plain": [
       "   data_venda canal_de_venda local_de_venda   pax  monetário_vendido     rpk  \\\n",
       "64 2016-11-05      TeleVenda      Mindscape  1378       60813.490656  164710   \n",
       "65 2016-11-05      Telégrafo       Ellipsis    42        2695.438460    2399   \n",
       "66 2016-11-05      TeleVenda          Arena   206       15726.530904   32153   \n",
       "67 2016-11-05  Porta a Porta           Vast  1314       30005.759983   61962   \n",
       "68 2016-11-05  Porta a Porta      Mindscape   877       34594.723120   98153   \n",
       "\n",
       "            km data_venda_str  year month day dias_da_semana  \n",
       "64  119.528302     2016-11-05  2016    11  05         Sábado  \n",
       "65   57.119048     2016-11-05  2016    11  05         Sábado  \n",
       "66  156.082524     2016-11-05  2016    11  05         Sábado  \n",
       "67   47.155251     2016-11-05  2016    11  05         Sábado  \n",
       "68  111.919042     2016-11-05  2016    11  05         Sábado  "
      ]
     },
     "execution_count": 32,
     "metadata": {},
     "output_type": "execute_result"
    }
   ],
   "source": [
    "_data_prk_sab_dom = _df[(_df['dias_da_semana']=='Sábado') | (_df['dias_da_semana']=='Domingo')]\n",
    "_data_prk_sab_dom.head(5)"
   ]
  },
  {
   "cell_type": "code",
   "execution_count": 33,
   "metadata": {},
   "outputs": [
    {
     "data": {
      "text/plain": [
       "(688, 12)"
      ]
     },
     "execution_count": 33,
     "metadata": {},
     "output_type": "execute_result"
    }
   ],
   "source": [
    "_data_prk_sab_dom.shape"
   ]
  },
  {
   "cell_type": "code",
   "execution_count": 34,
   "metadata": {},
   "outputs": [
    {
     "data": {
      "text/plain": [
       "count       688.000000\n",
       "mean      66264.930233\n",
       "std       77345.549978\n",
       "min        1671.000000\n",
       "25%       12829.750000\n",
       "50%       31592.500000\n",
       "75%       95087.500000\n",
       "max      474353.000000\n",
       "Name: rpk, dtype: float64"
      ]
     },
     "execution_count": 34,
     "metadata": {},
     "output_type": "execute_result"
    }
   ],
   "source": [
    "_data_prk_sab_dom['rpk'].describe()"
   ]
  },
  {
   "cell_type": "code",
   "execution_count": 35,
   "metadata": {},
   "outputs": [
    {
     "data": {
      "text/html": [
       "<div>\n",
       "<style scoped>\n",
       "    .dataframe tbody tr th:only-of-type {\n",
       "        vertical-align: middle;\n",
       "    }\n",
       "\n",
       "    .dataframe tbody tr th {\n",
       "        vertical-align: top;\n",
       "    }\n",
       "\n",
       "    .dataframe thead th {\n",
       "        text-align: right;\n",
       "    }\n",
       "</style>\n",
       "<table border=\"1\" class=\"dataframe\">\n",
       "  <thead>\n",
       "    <tr style=\"text-align: right;\">\n",
       "      <th></th>\n",
       "      <th>data_venda</th>\n",
       "      <th>dias_da_semana</th>\n",
       "      <th>rpk</th>\n",
       "    </tr>\n",
       "  </thead>\n",
       "  <tbody>\n",
       "    <tr>\n",
       "      <th>64</th>\n",
       "      <td>2016-11-05</td>\n",
       "      <td>Sábado</td>\n",
       "      <td>164710</td>\n",
       "    </tr>\n",
       "    <tr>\n",
       "      <th>65</th>\n",
       "      <td>2016-11-05</td>\n",
       "      <td>Sábado</td>\n",
       "      <td>2399</td>\n",
       "    </tr>\n",
       "    <tr>\n",
       "      <th>66</th>\n",
       "      <td>2016-11-05</td>\n",
       "      <td>Sábado</td>\n",
       "      <td>32153</td>\n",
       "    </tr>\n",
       "    <tr>\n",
       "      <th>67</th>\n",
       "      <td>2016-11-05</td>\n",
       "      <td>Sábado</td>\n",
       "      <td>61962</td>\n",
       "    </tr>\n",
       "    <tr>\n",
       "      <th>68</th>\n",
       "      <td>2016-11-05</td>\n",
       "      <td>Sábado</td>\n",
       "      <td>98153</td>\n",
       "    </tr>\n",
       "  </tbody>\n",
       "</table>\n",
       "</div>"
      ],
      "text/plain": [
       "   data_venda dias_da_semana     rpk\n",
       "64 2016-11-05         Sábado  164710\n",
       "65 2016-11-05         Sábado    2399\n",
       "66 2016-11-05         Sábado   32153\n",
       "67 2016-11-05         Sábado   61962\n",
       "68 2016-11-05         Sábado   98153"
      ]
     },
     "execution_count": 35,
     "metadata": {},
     "output_type": "execute_result"
    }
   ],
   "source": [
    "_df3 = _data_prk_sab_dom.copy()\n",
    "_df3 = _df3[['data_venda', 'dias_da_semana', 'rpk']]\n",
    "_df3.head(5)"
   ]
  },
  {
   "cell_type": "code",
   "execution_count": 36,
   "metadata": {},
   "outputs": [
    {
     "data": {
      "text/html": [
       "<div>\n",
       "<style scoped>\n",
       "    .dataframe tbody tr th:only-of-type {\n",
       "        vertical-align: middle;\n",
       "    }\n",
       "\n",
       "    .dataframe tbody tr th {\n",
       "        vertical-align: top;\n",
       "    }\n",
       "\n",
       "    .dataframe thead th {\n",
       "        text-align: right;\n",
       "    }\n",
       "</style>\n",
       "<table border=\"1\" class=\"dataframe\">\n",
       "  <thead>\n",
       "    <tr style=\"text-align: right;\">\n",
       "      <th></th>\n",
       "      <th>rpk</th>\n",
       "    </tr>\n",
       "    <tr>\n",
       "      <th>data_venda</th>\n",
       "      <th></th>\n",
       "    </tr>\n",
       "  </thead>\n",
       "  <tbody>\n",
       "    <tr>\n",
       "      <th>2016-11-05</th>\n",
       "      <td>1069765</td>\n",
       "    </tr>\n",
       "    <tr>\n",
       "      <th>2016-11-06</th>\n",
       "      <td>1151471</td>\n",
       "    </tr>\n",
       "    <tr>\n",
       "      <th>2016-11-12</th>\n",
       "      <td>1173772</td>\n",
       "    </tr>\n",
       "    <tr>\n",
       "      <th>2016-11-13</th>\n",
       "      <td>1346138</td>\n",
       "    </tr>\n",
       "    <tr>\n",
       "      <th>2016-11-19</th>\n",
       "      <td>998433</td>\n",
       "    </tr>\n",
       "  </tbody>\n",
       "</table>\n",
       "</div>"
      ],
      "text/plain": [
       "                rpk\n",
       "data_venda         \n",
       "2016-11-05  1069765\n",
       "2016-11-06  1151471\n",
       "2016-11-12  1173772\n",
       "2016-11-13  1346138\n",
       "2016-11-19   998433"
      ]
     },
     "execution_count": 36,
     "metadata": {},
     "output_type": "execute_result"
    }
   ],
   "source": [
    "_df3 = _df3.groupby(['data_venda']).sum()\n",
    "_df3.head(5)"
   ]
  },
  {
   "cell_type": "code",
   "execution_count": 37,
   "metadata": {},
   "outputs": [
    {
     "data": {
      "image/png": "[encoded data removed]",
      "text/plain": [
       "<Figure size 2160x720 with 1 Axes>"
      ]
     },
     "metadata": {},
     "output_type": "display_data"
    }
   ],
   "source": [
    "sns.set_palette('Accent')\n",
    "sns.set_style('darkgrid')\n",
    "ax = sns.lineplot(x = 'data_venda', y = 'rpk', data = _df3)\n",
    "ax.figure.set_size_inches(30, 10)\n",
    "ax.set_title('Passageiro por Km', loc='left', fontsize=18)\n",
    "ax.set_xlabel('Dias', fontsize=14)\n",
    "ax.set_ylabel('RPK', fontsize=14)\n",
    "ax = ax"
   ]
  },
  {
   "cell_type": "code",
   "execution_count": 66,
   "metadata": {},
   "outputs": [
    {
     "data": {
      "text/plain": [
       "162307763"
      ]
     },
     "execution_count": 66,
     "metadata": {},
     "output_type": "execute_result"
    }
   ],
   "source": [
    "total_rpk = _df2['rpk'].sum()\n",
    "total_rpk"
   ]
  },
  {
   "cell_type": "code",
   "execution_count": 67,
   "metadata": {},
   "outputs": [
    {
     "ename": "IndexError",
     "evalue": "invalid index to scalar variable.",
     "output_type": "error",
     "traceback": [
      "\u001b[1;31m---------------------------------------------------------------------------\u001b[0m",
      "\u001b[1;31mIndexError\u001b[0m                                Traceback (most recent call last)",
      "\u001b[1;32m~\\AppData\\Local\\Temp/ipykernel_10548/665021805.py\u001b[0m in \u001b[0;36m<module>\u001b[1;34m\u001b[0m\n\u001b[1;32m----> 1\u001b[1;33m \u001b[0m_data_prk_sab_dom\u001b[0m \u001b[1;33m=\u001b[0m \u001b[0m_data_prk_sab_dom\u001b[0m\u001b[1;33m[\u001b[0m\u001b[1;34m'rpk'\u001b[0m\u001b[1;33m]\u001b[0m\u001b[1;33m.\u001b[0m\u001b[0msum\u001b[0m\u001b[1;33m(\u001b[0m\u001b[1;33m)\u001b[0m\u001b[1;33m\u001b[0m\u001b[1;33m\u001b[0m\u001b[0m\n\u001b[0m\u001b[0;32m      2\u001b[0m \u001b[0m_data_prk_sab_dom\u001b[0m\u001b[1;33m\u001b[0m\u001b[1;33m\u001b[0m\u001b[0m\n",
      "\u001b[1;31mIndexError\u001b[0m: invalid index to scalar variable."
     ]
    }
   ],
   "source": [
    "_data_prk_sab_dom = _data_prk_sab_dom['rpk'].sum()\n",
    "_data_prk_sab_dom"
   ]
  },
  {
   "cell_type": "code",
   "execution_count": 72,
   "metadata": {},
   "outputs": [
    {
     "name": "stdout",
     "output_type": "stream",
     "text": [
      "O RPK de Sábado e Domingo representam 28.09% de um total de 162,307,763.00 do RPK de todos os períodos \n"
     ]
    }
   ],
   "source": [
    "_representativeness = round( ( ( _data_prk_sab_dom / total_rpk) ) * 100, 2)\n",
    "print(f\"O RPK de Sábado e Domingo representam {_representativeness}% de um total de {total_rpk:,.2f} do RPK de todos os períodos \")\n"
   ]
  },
  {
   "cell_type": "markdown",
   "metadata": {},
   "source": [
    "3. Qual a média de ‘Monetário’ por mês por Canal? E a mediana?"
   ]
  },
  {
   "cell_type": "code",
   "execution_count": null,
   "metadata": {},
   "outputs": [
    {
     "data": {
      "text/html": [
       "<div>\n",
       "<style scoped>\n",
       "    .dataframe tbody tr th:only-of-type {\n",
       "        vertical-align: middle;\n",
       "    }\n",
       "\n",
       "    .dataframe tbody tr th {\n",
       "        vertical-align: top;\n",
       "    }\n",
       "\n",
       "    .dataframe thead th {\n",
       "        text-align: right;\n",
       "    }\n",
       "</style>\n",
       "<table border=\"1\" class=\"dataframe\">\n",
       "  <thead>\n",
       "    <tr style=\"text-align: right;\">\n",
       "      <th></th>\n",
       "      <th>data_venda</th>\n",
       "      <th>canal_de_venda</th>\n",
       "      <th>soma_monetário_vendido</th>\n",
       "    </tr>\n",
       "  </thead>\n",
       "  <tbody>\n",
       "    <tr>\n",
       "      <th>0</th>\n",
       "      <td>2017-02-14</td>\n",
       "      <td>Telégrafo</td>\n",
       "      <td>7500.944465</td>\n",
       "    </tr>\n",
       "    <tr>\n",
       "      <th>1</th>\n",
       "      <td>2017-03-07</td>\n",
       "      <td>Telégrafo</td>\n",
       "      <td>9887.166630</td>\n",
       "    </tr>\n",
       "    <tr>\n",
       "      <th>2</th>\n",
       "      <td>2016-11-01</td>\n",
       "      <td>Telégrafo</td>\n",
       "      <td>10158.006555</td>\n",
       "    </tr>\n",
       "    <tr>\n",
       "      <th>3</th>\n",
       "      <td>2016-12-29</td>\n",
       "      <td>Telégrafo</td>\n",
       "      <td>10405.957828</td>\n",
       "    </tr>\n",
       "    <tr>\n",
       "      <th>4</th>\n",
       "      <td>2017-01-31</td>\n",
       "      <td>Telégrafo</td>\n",
       "      <td>10664.869419</td>\n",
       "    </tr>\n",
       "    <tr>\n",
       "      <th>...</th>\n",
       "      <td>...</td>\n",
       "      <td>...</td>\n",
       "      <td>...</td>\n",
       "    </tr>\n",
       "    <tr>\n",
       "      <th>451</th>\n",
       "      <td>2017-02-08</td>\n",
       "      <td>TeleVenda</td>\n",
       "      <td>349715.586496</td>\n",
       "    </tr>\n",
       "    <tr>\n",
       "      <th>452</th>\n",
       "      <td>2017-02-05</td>\n",
       "      <td>TeleVenda</td>\n",
       "      <td>358595.468696</td>\n",
       "    </tr>\n",
       "    <tr>\n",
       "      <th>453</th>\n",
       "      <td>2017-01-18</td>\n",
       "      <td>TeleVenda</td>\n",
       "      <td>365814.443628</td>\n",
       "    </tr>\n",
       "    <tr>\n",
       "      <th>454</th>\n",
       "      <td>2017-02-18</td>\n",
       "      <td>TeleVenda</td>\n",
       "      <td>374294.488479</td>\n",
       "    </tr>\n",
       "    <tr>\n",
       "      <th>455</th>\n",
       "      <td>2017-01-11</td>\n",
       "      <td>TeleVenda</td>\n",
       "      <td>433647.486098</td>\n",
       "    </tr>\n",
       "  </tbody>\n",
       "</table>\n",
       "<p>456 rows × 3 columns</p>\n",
       "</div>"
      ],
      "text/plain": [
       "    data_venda canal_de_venda  soma_monetário_vendido\n",
       "0   2017-02-14      Telégrafo             7500.944465\n",
       "1   2017-03-07      Telégrafo             9887.166630\n",
       "2   2016-11-01      Telégrafo            10158.006555\n",
       "3   2016-12-29      Telégrafo            10405.957828\n",
       "4   2017-01-31      Telégrafo            10664.869419\n",
       "..         ...            ...                     ...\n",
       "451 2017-02-08      TeleVenda           349715.586496\n",
       "452 2017-02-05      TeleVenda           358595.468696\n",
       "453 2017-01-18      TeleVenda           365814.443628\n",
       "454 2017-02-18      TeleVenda           374294.488479\n",
       "455 2017-01-11      TeleVenda           433647.486098\n",
       "\n",
       "[456 rows x 3 columns]"
      ]
     },
     "execution_count": 38,
     "metadata": {},
     "output_type": "execute_result"
    }
   ],
   "source": [
    "_df_sum_channels = _df.groupby(['data_venda', 'canal_de_venda'])['monetário_vendido'].sum().reset_index()\n",
    "_df_sum_channels = _df_sum_channels.sort_values(['monetário_vendido']).reset_index(drop=True).rename(columns={'monetário_vendido':'soma_monetário_vendido'})\n",
    "_df_sum_channels"
   ]
  },
  {
   "cell_type": "code",
   "execution_count": null,
   "metadata": {},
   "outputs": [
    {
     "data": {
      "text/html": [
       "<div>\n",
       "<style scoped>\n",
       "    .dataframe tbody tr th:only-of-type {\n",
       "        vertical-align: middle;\n",
       "    }\n",
       "\n",
       "    .dataframe tbody tr th {\n",
       "        vertical-align: top;\n",
       "    }\n",
       "\n",
       "    .dataframe thead th {\n",
       "        text-align: right;\n",
       "    }\n",
       "</style>\n",
       "<table border=\"1\" class=\"dataframe\">\n",
       "  <thead>\n",
       "    <tr style=\"text-align: right;\">\n",
       "      <th></th>\n",
       "      <th>data_venda</th>\n",
       "      <th>canal_de_venda</th>\n",
       "      <th>media_monetário_vendido</th>\n",
       "    </tr>\n",
       "  </thead>\n",
       "  <tbody>\n",
       "    <tr>\n",
       "      <th>0</th>\n",
       "      <td>2017-02-14</td>\n",
       "      <td>Telégrafo</td>\n",
       "      <td>1875.236116</td>\n",
       "    </tr>\n",
       "    <tr>\n",
       "      <th>1</th>\n",
       "      <td>2017-03-07</td>\n",
       "      <td>Telégrafo</td>\n",
       "      <td>2471.791657</td>\n",
       "    </tr>\n",
       "    <tr>\n",
       "      <th>2</th>\n",
       "      <td>2016-11-01</td>\n",
       "      <td>Telégrafo</td>\n",
       "      <td>2539.501639</td>\n",
       "    </tr>\n",
       "    <tr>\n",
       "      <th>3</th>\n",
       "      <td>2016-12-29</td>\n",
       "      <td>Telégrafo</td>\n",
       "      <td>2601.489457</td>\n",
       "    </tr>\n",
       "    <tr>\n",
       "      <th>4</th>\n",
       "      <td>2017-01-31</td>\n",
       "      <td>Telégrafo</td>\n",
       "      <td>2666.217355</td>\n",
       "    </tr>\n",
       "    <tr>\n",
       "      <th>...</th>\n",
       "      <td>...</td>\n",
       "      <td>...</td>\n",
       "      <td>...</td>\n",
       "    </tr>\n",
       "    <tr>\n",
       "      <th>451</th>\n",
       "      <td>2017-02-07</td>\n",
       "      <td>Porta a Porta</td>\n",
       "      <td>57817.974229</td>\n",
       "    </tr>\n",
       "    <tr>\n",
       "      <th>452</th>\n",
       "      <td>2016-12-12</td>\n",
       "      <td>Porta a Porta</td>\n",
       "      <td>60264.692703</td>\n",
       "    </tr>\n",
       "    <tr>\n",
       "      <th>453</th>\n",
       "      <td>2016-11-15</td>\n",
       "      <td>Porta a Porta</td>\n",
       "      <td>61025.684473</td>\n",
       "    </tr>\n",
       "    <tr>\n",
       "      <th>454</th>\n",
       "      <td>2017-02-06</td>\n",
       "      <td>Porta a Porta</td>\n",
       "      <td>62582.661791</td>\n",
       "    </tr>\n",
       "    <tr>\n",
       "      <th>455</th>\n",
       "      <td>2016-11-14</td>\n",
       "      <td>Porta a Porta</td>\n",
       "      <td>82225.661478</td>\n",
       "    </tr>\n",
       "  </tbody>\n",
       "</table>\n",
       "<p>456 rows × 3 columns</p>\n",
       "</div>"
      ],
      "text/plain": [
       "    data_venda canal_de_venda  media_monetário_vendido\n",
       "0   2017-02-14      Telégrafo              1875.236116\n",
       "1   2017-03-07      Telégrafo              2471.791657\n",
       "2   2016-11-01      Telégrafo              2539.501639\n",
       "3   2016-12-29      Telégrafo              2601.489457\n",
       "4   2017-01-31      Telégrafo              2666.217355\n",
       "..         ...            ...                      ...\n",
       "451 2017-02-07  Porta a Porta             57817.974229\n",
       "452 2016-12-12  Porta a Porta             60264.692703\n",
       "453 2016-11-15  Porta a Porta             61025.684473\n",
       "454 2017-02-06  Porta a Porta             62582.661791\n",
       "455 2016-11-14  Porta a Porta             82225.661478\n",
       "\n",
       "[456 rows x 3 columns]"
      ]
     },
     "execution_count": 39,
     "metadata": {},
     "output_type": "execute_result"
    }
   ],
   "source": [
    "_df_mean_channels = _df.groupby(['data_venda', 'canal_de_venda'])['monetário_vendido'].mean().reset_index()\n",
    "_df_mean_channels = _df_mean_channels.sort_values(['monetário_vendido']).reset_index(drop=True).rename(columns={'monetário_vendido':'media_monetário_vendido'})\n",
    "_df_mean_channels"
   ]
  },
  {
   "cell_type": "code",
   "execution_count": null,
   "metadata": {},
   "outputs": [
    {
     "data": {
      "text/html": [
       "<div>\n",
       "<style scoped>\n",
       "    .dataframe tbody tr th:only-of-type {\n",
       "        vertical-align: middle;\n",
       "    }\n",
       "\n",
       "    .dataframe tbody tr th {\n",
       "        vertical-align: top;\n",
       "    }\n",
       "\n",
       "    .dataframe thead th {\n",
       "        text-align: right;\n",
       "    }\n",
       "</style>\n",
       "<table border=\"1\" class=\"dataframe\">\n",
       "  <thead>\n",
       "    <tr style=\"text-align: right;\">\n",
       "      <th></th>\n",
       "      <th>data_venda</th>\n",
       "      <th>canal_de_venda</th>\n",
       "      <th>mediana_monetário_vendido</th>\n",
       "    </tr>\n",
       "  </thead>\n",
       "  <tbody>\n",
       "    <tr>\n",
       "      <th>0</th>\n",
       "      <td>2017-02-14</td>\n",
       "      <td>Telégrafo</td>\n",
       "      <td>1855.066440</td>\n",
       "    </tr>\n",
       "    <tr>\n",
       "      <th>1</th>\n",
       "      <td>2016-11-29</td>\n",
       "      <td>Telégrafo</td>\n",
       "      <td>1927.050453</td>\n",
       "    </tr>\n",
       "    <tr>\n",
       "      <th>2</th>\n",
       "      <td>2017-01-24</td>\n",
       "      <td>Telégrafo</td>\n",
       "      <td>1952.403237</td>\n",
       "    </tr>\n",
       "    <tr>\n",
       "      <th>3</th>\n",
       "      <td>2017-03-07</td>\n",
       "      <td>Telégrafo</td>\n",
       "      <td>2131.861597</td>\n",
       "    </tr>\n",
       "    <tr>\n",
       "      <th>4</th>\n",
       "      <td>2016-11-22</td>\n",
       "      <td>Telégrafo</td>\n",
       "      <td>2291.569788</td>\n",
       "    </tr>\n",
       "    <tr>\n",
       "      <th>...</th>\n",
       "      <td>...</td>\n",
       "      <td>...</td>\n",
       "      <td>...</td>\n",
       "    </tr>\n",
       "    <tr>\n",
       "      <th>451</th>\n",
       "      <td>2017-01-10</td>\n",
       "      <td>Porta a Porta</td>\n",
       "      <td>54620.850069</td>\n",
       "    </tr>\n",
       "    <tr>\n",
       "      <th>452</th>\n",
       "      <td>2017-02-07</td>\n",
       "      <td>Porta a Porta</td>\n",
       "      <td>54622.131114</td>\n",
       "    </tr>\n",
       "    <tr>\n",
       "      <th>453</th>\n",
       "      <td>2017-02-06</td>\n",
       "      <td>Porta a Porta</td>\n",
       "      <td>54958.440086</td>\n",
       "    </tr>\n",
       "    <tr>\n",
       "      <th>454</th>\n",
       "      <td>2016-11-15</td>\n",
       "      <td>Porta a Porta</td>\n",
       "      <td>56412.237777</td>\n",
       "    </tr>\n",
       "    <tr>\n",
       "      <th>455</th>\n",
       "      <td>2016-11-14</td>\n",
       "      <td>Porta a Porta</td>\n",
       "      <td>71461.353773</td>\n",
       "    </tr>\n",
       "  </tbody>\n",
       "</table>\n",
       "<p>456 rows × 3 columns</p>\n",
       "</div>"
      ],
      "text/plain": [
       "    data_venda canal_de_venda  mediana_monetário_vendido\n",
       "0   2017-02-14      Telégrafo                1855.066440\n",
       "1   2016-11-29      Telégrafo                1927.050453\n",
       "2   2017-01-24      Telégrafo                1952.403237\n",
       "3   2017-03-07      Telégrafo                2131.861597\n",
       "4   2016-11-22      Telégrafo                2291.569788\n",
       "..         ...            ...                        ...\n",
       "451 2017-01-10  Porta a Porta               54620.850069\n",
       "452 2017-02-07  Porta a Porta               54622.131114\n",
       "453 2017-02-06  Porta a Porta               54958.440086\n",
       "454 2016-11-15  Porta a Porta               56412.237777\n",
       "455 2016-11-14  Porta a Porta               71461.353773\n",
       "\n",
       "[456 rows x 3 columns]"
      ]
     },
     "execution_count": 40,
     "metadata": {},
     "output_type": "execute_result"
    }
   ],
   "source": [
    "_df_median_channels = _df.groupby(['data_venda', 'canal_de_venda'])['monetário_vendido'].median().reset_index()\n",
    "_df_median_channels = _df_median_channels.sort_values('monetário_vendido').reset_index(drop=True).rename(columns={'monetário_vendido':'mediana_monetário_vendido'})\n",
    "_df_median_channels"
   ]
  },
  {
   "cell_type": "markdown",
   "metadata": {},
   "source": [
    "4. Crie um forecast de PAX por ‘Local de Venda’ para os próximos 15 dias a contar da última data de venda. (Aqui a técnica é livre) \n"
   ]
  },
  {
   "cell_type": "code",
   "execution_count": null,
   "metadata": {},
   "outputs": [],
   "source": []
  }
 ],
 "metadata": {
  "interpreter": {
   "hash": "e498d712bea89263972a134f8b28ce3d9c62157d5c389fcab52812d3ee13c2ba"
  },
  "kernelspec": {
   "display_name": "Python 3.9.6 64-bit",
   "language": "python",
   "name": "python3"
  },
  "language_info": {
   "codemirror_mode": {
    "name": "ipython",
    "version": 3
   },
   "file_extension": ".py",
   "mimetype": "text/x-python",
   "name": "python",
   "nbconvert_exporter": "python",
   "pygments_lexer": "ipython3",
   "version": "3.9.6"
  },
  "orig_nbformat": 4
 },
 "nbformat": 4,
 "nbformat_minor": 2
}
